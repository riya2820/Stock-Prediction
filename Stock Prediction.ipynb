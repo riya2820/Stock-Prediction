{
 "cells": [
  {
   "cell_type": "code",
   "execution_count": null,
   "id": "c3d63cf5",
   "metadata": {},
   "outputs": [],
   "source": [
    "import pandas as pd\n",
    "import numpy as np\n",
    "import matplotlib.pyplot as plt\n",
    "from sklearn.preprocessing import MinMaxScaler\n",
    "from keras.models import Sequential, load_model\n",
    "from keras.layers import LSTM, Dense, Dropout"
   ]
  },
  {
   "cell_type": "code",
   "execution_count": null,
   "id": "945275d6",
   "metadata": {},
   "outputs": [],
   "source": [
    "from sklearn.metrics import precision_score, accuracy_score\n",
    "from sklearn.ensemble import RandomForestClassifier \n"
   ]
  },
  {
   "cell_type": "code",
   "execution_count": null,
   "metadata": {},
   "outputs": [],
   "source": [
    "# n_estimators: no of decision trees\n",
    "# min_sample_split: prevents overfitting (if too high less accurate if too low overfitting)\n",
    "# random_state: setting to 1, will keep the randomness same upon rerurring data\n",
    "model = RandomForestClassifier(n_estimators=100, min_sample_split=100,random_state=1)\n",
    "train = sp500.iloc[:-100]\n",
    "test = sp500.iloc[-100:]\n",
    "\n",
    "predictors = [\"Close\",\"Volume\", \"Open\", \"High\", \"Low\"] # dont give all cols, models shouldnt know future vals\n",
    "model.fit(train[predictors], train[\"Target\"])"
   ]
  },
  {
   "cell_type": "code",
   "execution_count": null,
   "metadata": {},
   "outputs": [],
   "source": [
    "# Cross Validation: (bad choice here)\n",
    "# for Time Series type of data will give you were good looking data but wont be accurate\n",
    "# uses future data to predict past i.e not possible causes -->  Leakage!"
   ]
  },
  {
   "cell_type": "code",
   "execution_count": null,
   "metadata": {},
   "outputs": [],
   "source": [
    "rf = RandomForestClassifier(n_estimators-59, min_samples_split=10,random_state=1)\n",
    "# splitting data into test and train set\n",
    "train = matches[matches['date'] < '2022-01-01'] \n",
    "test = matches[matches['date'] > '2022-01-01']\n",
    "predictors = [\"venue_code\", ]\n",
    "\n",
    "acc = accuracy_score(test['target'], preds)\n",
    "print(\"Accuracy score: \", acc)"
   ]
  },
  {
   "cell_type": "code",
   "execution_count": null,
   "metadata": {},
   "outputs": [],
   "source": [
    "combined = pd.DataFrame(dict(actual = test[\"target\"], pediction = preds)\n",
    "# two way table that will show us actual values vs the predicted values \n",
    "# 0 -> correct, 1 -> incorrect prediction \n",
    "pd.crosstab(index=combined[\"actual\"], coloums=combined[prediction])"
   ]
  },
  {
   "cell_type": "code",
   "execution_count": null,
   "metadata": {},
   "outputs": [],
   "source": [
    "def predict(data, model, predictors, model):\n",
    "    model.fit(train[predictos], train[\"Target\"])\n",
    "    preds = model.predict(test[predictors])\n",
    "    combined = pd.concat([test[\"Target\"], preds], axis=1)\n",
    "    return combined\n",
    "\n",
    "# Backtesting means we train the algorithm on data from a certain time period\n",
    "# and then test its performance on older data\n",
    "\n",
    "def backtest(data, model, predictors, start=2500, step=250):\n",
    "    # 1 year 365 days so about 250 days in training data \n",
    "    # 10 such yeats so start at 2500 \n",
    "    # \"step\" helps to jump to val+250, in thus case incrementing by 1 year\n",
    "\n",
    "    all_predictions = []\n",
    "\n",
    "    for i in range(start, data.shape[0], step):\n",
    "        train = data.iloc[0:i].copy() # years uptil current year\n",
    "        test = data.iloc[i:i+step].copy() # current year onwards \n",
    "        all_predictions.append(predictions)\n",
    "\n",
    "    return pd.concat(all_predictions)"
   ]
  },
  {
   "cell_type": "code",
   "execution_count": null,
   "metadata": {},
   "outputs": [],
   "source": [
    "predictions = backtest(sp500, model, predictors)\n",
    "predictions[\"Predictions\"].value_counts()"
   ]
  },
  {
   "cell_type": "code",
   "execution_count": null,
   "metadata": {},
   "outputs": [],
   "source": []
  },
  {
   "cell_type": "code",
   "execution_count": null,
   "metadata": {},
   "outputs": [],
   "source": [
    "//// Different Project ///"
   ]
  },
  {
   "cell_type": "code",
   "execution_count": null,
   "metadata": {},
   "outputs": [],
   "source": [
    "grouped_matches = matches.groupby('team')\n",
    "group = grouped_matches()"
   ]
  },
  {
   "cell_type": "code",
   "execution_count": null,
   "metadata": {},
   "outputs": [],
   "source": [
    "def rolling_averages(group, cols, new_cols):\n",
    "    group = group.sort_values(\"date\")\n",
    "    rolling_stats = group[cols].rolling(3, closed=\"left\")"
   ]
  },
  {
   "cell_type": "markdown",
   "id": "35b9c520",
   "metadata": {},
   "source": []
  }
 ],
 "metadata": {
  "interpreter": {
   "hash": "7e1998ff7f8aa20ada591c520b972326324e5ea05489af9e422744c7c09f6dad"
  },
  "kernelspec": {
   "display_name": "Python 3.10.0 64-bit",
   "name": "python3"
  },
  "language_info": {
   "name": "python",
   "version": "3.10.0"
  }
 },
 "nbformat": 4,
 "nbformat_minor": 5
}
